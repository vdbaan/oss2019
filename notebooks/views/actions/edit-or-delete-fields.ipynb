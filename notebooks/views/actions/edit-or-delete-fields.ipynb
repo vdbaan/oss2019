{
 "cells": [
  {
   "cell_type": "markdown",
   "metadata": {},
   "source": [
    "## Edit or detete participant fields\n",
    "\n",
    "Notebook used to do batch edits or deletions of participant's fields"
   ]
  },
  {
   "cell_type": "code",
   "execution_count": 35,
   "metadata": {},
   "outputs": [],
   "source": [
    "#%load_ext autoreload\n",
    "%autoreload\n",
    "from oss_hugo.OSS_Participant import OSS_Participant\n",
    "from oss_hugo.API_Hugo_OSS import API_Hugo_OSS\n",
    "from oss_hugo.OSS_GSheet_Data import OSS_GSheet_Data\n"
   ]
  },
  {
   "cell_type": "code",
   "execution_count": 99,
   "metadata": {},
   "outputs": [
    {
     "data": {
      "text/html": [
       "<div>\n",
       "<style scoped>\n",
       "    .dataframe tbody tr th:only-of-type {\n",
       "        vertical-align: middle;\n",
       "    }\n",
       "\n",
       "    .dataframe tbody tr th {\n",
       "        vertical-align: top;\n",
       "    }\n",
       "\n",
       "    .dataframe thead th {\n",
       "        text-align: right;\n",
       "    }\n",
       "</style>\n",
       "<table border=\"1\" class=\"dataframe\">\n",
       "  <thead>\n",
       "    <tr style=\"text-align: right;\">\n",
       "      <th></th>\n",
       "      <th>night_day</th>\n",
       "      <th>eventbrite_id</th>\n",
       "      <th>funded_who</th>\n",
       "      <th>night_room</th>\n",
       "      <th>regonline</th>\n",
       "      <th>pre-summit</th>\n",
       "      <th>sponsored_by</th>\n",
       "      <th>venue</th>\n",
       "      <th>villa</th>\n",
       "    </tr>\n",
       "  </thead>\n",
       "  <tbody>\n",
       "    <tr>\n",
       "      <th>122</th>\n",
       "      <td>NaN</td>\n",
       "      <td>None</td>\n",
       "      <td>NaN</td>\n",
       "      <td>NaN</td>\n",
       "      <td>NaN</td>\n",
       "      <td>NaN</td>\n",
       "      <td>NaN</td>\n",
       "      <td>NaN</td>\n",
       "      <td>NaN</td>\n",
       "    </tr>\n",
       "    <tr>\n",
       "      <th>123</th>\n",
       "      <td>NaN</td>\n",
       "      <td>None</td>\n",
       "      <td>NaN</td>\n",
       "      <td>NaN</td>\n",
       "      <td>NaN</td>\n",
       "      <td>NaN</td>\n",
       "      <td>NaN</td>\n",
       "      <td>NaN</td>\n",
       "      <td>NaN</td>\n",
       "    </tr>\n",
       "    <tr>\n",
       "      <th>124</th>\n",
       "      <td>NaN</td>\n",
       "      <td>None</td>\n",
       "      <td>NaN</td>\n",
       "      <td>NaN</td>\n",
       "      <td>NaN</td>\n",
       "      <td>NaN</td>\n",
       "      <td>NaN</td>\n",
       "      <td>NaN</td>\n",
       "      <td>NaN</td>\n",
       "    </tr>\n",
       "    <tr>\n",
       "      <th>125</th>\n",
       "      <td>NaN</td>\n",
       "      <td>None</td>\n",
       "      <td>NaN</td>\n",
       "      <td>NaN</td>\n",
       "      <td>NaN</td>\n",
       "      <td>NaN</td>\n",
       "      <td>NaN</td>\n",
       "      <td>NaN</td>\n",
       "      <td>NaN</td>\n",
       "    </tr>\n",
       "    <tr>\n",
       "      <th>126</th>\n",
       "      <td>NaN</td>\n",
       "      <td>None</td>\n",
       "      <td>NaN</td>\n",
       "      <td>NaN</td>\n",
       "      <td>NaN</td>\n",
       "      <td>NaN</td>\n",
       "      <td>NaN</td>\n",
       "      <td>NaN</td>\n",
       "      <td>NaN</td>\n",
       "    </tr>\n",
       "  </tbody>\n",
       "</table>\n",
       "</div>"
      ],
      "text/plain": [
       "    night_day eventbrite_id funded_who  night_room  regonline pre-summit  \\\n",
       "122       NaN          None        NaN         NaN        NaN        NaN   \n",
       "123       NaN          None        NaN         NaN        NaN        NaN   \n",
       "124       NaN          None        NaN         NaN        NaN        NaN   \n",
       "125       NaN          None        NaN         NaN        NaN        NaN   \n",
       "126       NaN          None        NaN         NaN        NaN        NaN   \n",
       "\n",
       "    sponsored_by venue  villa  \n",
       "122          NaN   NaN    NaN  \n",
       "123          NaN   NaN    NaN  \n",
       "124          NaN   NaN    NaN  \n",
       "125          NaN   NaN    NaN  \n",
       "126          NaN   NaN    NaN  "
      ]
     },
     "execution_count": 99,
     "metadata": {},
     "output_type": "execute_result"
    }
   ],
   "source": [
    "fields_to_delete = ['night_day','eventbrite_id','funded_who','night_room','regonline','pre-summit',\n",
    "                     'sponsored_by','venue','villa']\n",
    "hugo.df_participants()[fields_to_delete].tail()"
   ]
  },
  {
   "cell_type": "code",
   "execution_count": 107,
   "metadata": {},
   "outputs": [
    {
     "data": {
      "text/plain": [
       "'removed 9 fields from 126 files'"
      ]
     },
     "execution_count": 107,
     "metadata": {},
     "output_type": "execute_result"
    }
   ],
   "source": [
    "#Deleting multiple fields\n",
    "%autoreload\n",
    "fields_to_delete = ['night_day','eventbrite_id','funded_who','night_room','regonline','pre-summit',\n",
    "                     'sponsored_by','venue','villa']\n",
    "\n",
    "md_participants = hugo.md_files_participants()\n",
    "for md_participant in md_participants:\n",
    "    participant     = OSS_Participant(md_participant)\n",
    "    for field_to_delete in fields_to_delete:\n",
    "        participant.delete_field(field_to_delete)\n",
    "    participant.save()    \n",
    "    \n",
    "\n",
    "\"removed {0} fields from {1} files\".format(len(fields_to_delete), len(md_participants))\n"
   ]
  },
  {
   "cell_type": "code",
   "execution_count": 6,
   "metadata": {},
   "outputs": [
    {
     "data": {
      "text/plain": [
       "'all done'"
      ]
     },
     "execution_count": 6,
     "metadata": {},
     "output_type": "execute_result"
    }
   ],
   "source": [
    "#deleting email field\n",
    "from oss_hugo.OSS_Participant import OSS_Participant\n",
    "md_participants = hugo.md_files_participants()\n",
    "for md_participant in md_participants:\n",
    "    participant     = OSS_Participant(md_participant)\n",
    "    participant.delete_field('email', auto_save=True)\n",
    "    \n",
    "\"all done\"  #check change in git   \n",
    "\n"
   ]
  },
  {
   "cell_type": "code",
   "execution_count": 112,
   "metadata": {},
   "outputs": [
    {
     "data": {
      "text/plain": [
       "Index(['chapter_leader', 'company', 'email', 'facebook', 'featured', 'image',\n",
       "       'job_title', 'layout', 'linkedin', 'night_where', 'notes', 'pre_summit',\n",
       "       'project_leader', 'role', 'sessions', 'status', 'title', 'tracks',\n",
       "       'travel-from', 'travel_from', 'twitter', 'type', 'website',\n",
       "       'working_sessions'],\n",
       "      dtype='object')"
      ]
     },
     "execution_count": 112,
     "metadata": {},
     "output_type": "execute_result"
    }
   ],
   "source": [
    "hugo.df_participants().columns"
   ]
  },
  {
   "cell_type": "code",
   "execution_count": 1,
   "metadata": {},
   "outputs": [],
   "source": [
    "#hugo.df_participants()[['title','chapter_leader']]"
   ]
  },
  {
   "cell_type": "code",
   "execution_count": 123,
   "metadata": {},
   "outputs": [],
   "source": [
    "gsheet=OSS_GSheet_Data()"
   ]
  },
  {
   "cell_type": "code",
   "execution_count": 124,
   "metadata": {
    "scrolled": false
   },
   "outputs": [],
   "source": [
    "df_gsheet = gsheet.df_participants_onsite()\n"
   ]
  },
  {
   "cell_type": "code",
   "execution_count": 2,
   "metadata": {},
   "outputs": [],
   "source": [
    "#df_gsheet[df_gsheet['Chapter Leader'] != '']"
   ]
  },
  {
   "cell_type": "code",
   "execution_count": 3,
   "metadata": {},
   "outputs": [],
   "source": [
    "#df_gsheet[df_gsheet['Project Leader'] != '']"
   ]
  },
  {
   "cell_type": "code",
   "execution_count": null,
   "metadata": {},
   "outputs": [],
   "source": []
  }
 ],
 "metadata": {
  "kernelspec": {
   "display_name": "Python 3",
   "language": "python",
   "name": "python3"
  },
  "language_info": {
   "codemirror_mode": {
    "name": "ipython",
    "version": 3
   },
   "file_extension": ".py",
   "mimetype": "text/x-python",
   "name": "python",
   "nbconvert_exporter": "python",
   "pygments_lexer": "ipython3",
   "version": "3.7.3"
  }
 },
 "nbformat": 4,
 "nbformat_minor": 2
}
