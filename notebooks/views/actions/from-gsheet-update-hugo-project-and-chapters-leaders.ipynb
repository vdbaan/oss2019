{
 "cells": [
  {
   "cell_type": "markdown",
   "metadata": {},
   "source": [
    "## From GSheet update Hugo project and chapters leaders\n",
    "\n",
    "The original mapping was done on GSheets so let's use that data\n",
    "\n",
    "(**DON'T RUN THIS AGAIN**, since after it's execution, Hugo is now the Single Source of Truth for the project's and chapter's data)"
   ]
  },
  {
   "cell_type": "code",
   "execution_count": null,
   "metadata": {},
   "outputs": [],
   "source": [
    "from oss_hugo.OSS_GSheet_Data import OSS_GSheet_Data\n",
    "from oss_hugo.API_Hugo_OSS    import API_Hugo_OSS\n",
    "#from oss_hugo.OSS_Participant import OSS_Participant"
   ]
  },
  {
   "cell_type": "code",
   "execution_count": null,
   "metadata": {},
   "outputs": [],
   "source": [
    "gsheet = OSS_GSheet_Data()\n",
    "hugo   = API_Hugo_OSS()\n",
    "\n",
    "participants = hugo.participants_oss()\n",
    "df_gsheet    = gsheet.df_participants_onsite(['Name','Chapter Leader','Project Leader'])\n",
    "\n",
    "# Updating the Chapter Leaders values\n",
    "df_chapters  = df_gsheet[df_gsheet['Chapter Leader'] != '']\n",
    "\n",
    "for index, row in df_chapters.iterrows():\n",
    "    participant = participants.get(row['Name'])\n",
    "    participant.set_field('chapter_leader', row['Chapter Leader'])\n",
    "    participant.save()\n",
    "\n",
    "# Updating the Project Leaders values\n",
    "\n",
    "df_projects  = df_gsheet[df_gsheet['Project Leader'] != '']\n",
    "for index, row in df_projects.iterrows():\n",
    "    name  = row['Name']\n",
    "    value = [x.strip() for x in row['Project Leader'].split(',')]\n",
    "    participant = participants.get(name)\n",
    "    participant.set_field('project_leader', value)\n",
    "    participant.save()\n",
    "\n",
    "\"all done\""
   ]
  },
  {
   "cell_type": "code",
   "execution_count": null,
   "metadata": {},
   "outputs": [],
   "source": [
    "# Updating the 'Skills/Topics' values\n",
    "df_gsheet  = gsheet.df_participants_onsite(['Name','Skills/Topics'])\n",
    "df_skills  = df_gsheet[df_gsheet['Skills/Topics'] != '']\n",
    "for index, row in df_skills.iterrows():\n",
    "    name  = row['Name']\n",
    "    value = [x.strip() for x in row['Skills/Topics'].split(',')]\n",
    "    participant = participants.get(name)\n",
    "    participant.set_field('interested_in', value)\n",
    "    participant.save()\n"
   ]
  },
  {
   "cell_type": "markdown",
   "metadata": {},
   "source": [
    "\n",
    "\n",
    "\n",
    "### Looking at the data in Hugo"
   ]
  },
  {
   "cell_type": "code",
   "execution_count": null,
   "metadata": {},
   "outputs": [],
   "source": [
    "import numpy as np\n",
    "df = hugo.df_participants(['title','chapter_leader','project_leader'])\n",
    "df['project_leader'].replace('', np.nan, inplace=True)\n",
    "df['chapter_leader'].replace('', np.nan, inplace=True)\n",
    "df.dropna(thresh=2).fillna('').reset_index(drop=True)"
   ]
  },
  {
   "cell_type": "code",
   "execution_count": null,
   "metadata": {},
   "outputs": [],
   "source": [
    "hugo.df_participants(['title','interested_in']).dropna()\n",
    "field = 'chapter_leader'"
   ]
  }
 ],
 "metadata": {
  "kernelspec": {
   "display_name": "Python 3",
   "language": "python",
   "name": "python3"
  },
  "language_info": {
   "codemirror_mode": {
    "name": "ipython",
    "version": 3
   },
   "file_extension": ".py",
   "mimetype": "text/x-python",
   "name": "python",
   "nbconvert_exporter": "python",
   "pygments_lexer": "ipython3",
   "version": "3.7.3"
  }
 },
 "nbformat": 4,
 "nbformat_minor": 2
}
