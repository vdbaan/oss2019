{
 "cells": [
  {
   "cell_type": "markdown",
   "metadata": {},
   "source": [
    "## participants-oss2019\n",
    "\n",
    "Cells related to loading and parsing participant data (using Hugo_Pages API)"
   ]
  },
  {
   "cell_type": "code",
   "execution_count": 11,
   "metadata": {},
   "outputs": [
    {
     "name": "stdout",
     "output_type": "stream",
     "text": [
      "The autoreload extension is already loaded. To reload it, use:\n",
      "  %reload_ext autoreload\n"
     ]
    }
   ],
   "source": [
    "%load_ext autoreload\n",
    "%autoreload\n",
    "from oss_hugo.API_Hugo_OSS import API_Hugo_OSS\n",
    "hugo = API_Hugo_OSS()"
   ]
  },
  {
   "cell_type": "code",
   "execution_count": 14,
   "metadata": {},
   "outputs": [
    {
     "data": {
      "application/vnd.jupyter.widget-view+json": {
       "model_id": "713e0d0d49fd4eed82ab23f05a3a3a95",
       "version_major": 2,
       "version_minor": 0
      },
      "text/plain": [
       "QgridWidget(grid_options={'fullWidthRows': True, 'syncColumnCellResize': True, 'forceFitColumns': True, 'defau…"
      ]
     },
     "metadata": {},
     "output_type": "display_data"
    }
   ],
   "source": [
    "hugo.qgrid_merged_gsheet_and_hugo_data()"
   ]
  },
  {
   "cell_type": "code",
   "execution_count": null,
   "metadata": {},
   "outputs": [],
   "source": []
  },
  {
   "cell_type": "code",
   "execution_count": null,
   "metadata": {},
   "outputs": [],
   "source": []
  },
  {
   "cell_type": "code",
   "execution_count": 33,
   "metadata": {},
   "outputs": [
    {
     "data": {
      "text/plain": [
       "<matplotlib.axes._subplots.AxesSubplot at 0x7fda149835f8>"
      ]
     },
     "execution_count": 33,
     "metadata": {},
     "output_type": "execute_result"
    },
    {
     "data": {
      "image/png": "[encoded data removed]",
      "text/plain": [
       "<Figure size 432x288 with 1 Axes>"
      ]
     },
     "metadata": {},
     "output_type": "display_data"
    }
   ],
   "source": [
    "df_both.groupby('Payment Status').count()['Name'].plot.pie(table=True)"
   ]
  },
  {
   "cell_type": "code",
   "execution_count": null,
   "metadata": {},
   "outputs": [],
   "source": [
    "df_gsheet = hugo.gsheet_data().df_participants_onsite().set_index('Name')\n",
    "df_gsheet['source'] = 'gsheet'\n",
    "df_gsheet"
   ]
  },
  {
   "cell_type": "code",
   "execution_count": 9,
   "metadata": {},
   "outputs": [
    {
     "data": {
      "text/plain": [
       "'82 - 114'"
      ]
     },
     "execution_count": 9,
     "metadata": {},
     "output_type": "execute_result"
    }
   ],
   "source": [
    "\"{0} - {1}\".format(len(df_hugo), len(df_gsheet))"
   ]
  },
  {
   "cell_type": "code",
   "execution_count": 2,
   "metadata": {},
   "outputs": [
    {
     "data": {
      "text/html": [
       "<div>\n",
       "<style scoped>\n",
       "    .dataframe tbody tr th:only-of-type {\n",
       "        vertical-align: middle;\n",
       "    }\n",
       "\n",
       "    .dataframe tbody tr th {\n",
       "        vertical-align: top;\n",
       "    }\n",
       "\n",
       "    .dataframe thead th {\n",
       "        text-align: right;\n",
       "    }\n",
       "</style>\n",
       "<table border=\"1\" class=\"dataframe\">\n",
       "  <thead>\n",
       "    <tr style=\"text-align: right;\">\n",
       "      <th></th>\n",
       "      <th>title</th>\n",
       "    </tr>\n",
       "    <tr>\n",
       "      <th>file</th>\n",
       "      <th></th>\n",
       "    </tr>\n",
       "  </thead>\n",
       "  <tbody>\n",
       "    <tr>\n",
       "      <th>/content/participant/photobox-gs/day-ticket/mario-platt.md</th>\n",
       "      <td>Mario Platt</td>\n",
       "    </tr>\n",
       "    <tr>\n",
       "      <th>/content/participant/photobox-gs/day-ticket/stu-hirst.md</th>\n",
       "      <td>Stu Hirst</td>\n",
       "    </tr>\n",
       "    <tr>\n",
       "      <th>/content/participant/day-ticket/mario-platt.md</th>\n",
       "      <td>Mario Platt</td>\n",
       "    </tr>\n",
       "    <tr>\n",
       "      <th>/content/participant/day-ticket/paul-davies.md</th>\n",
       "      <td>Paul Davies</td>\n",
       "    </tr>\n",
       "    <tr>\n",
       "      <th>/content/participant/day-ticket/phil-huggins.md</th>\n",
       "      <td>Phil Huggins</td>\n",
       "    </tr>\n",
       "  </tbody>\n",
       "</table>\n",
       "</div>"
      ],
      "text/plain": [
       "                                                           title\n",
       "file                                                            \n",
       "/content/participant/photobox-gs/day-ticket/mar...   Mario Platt\n",
       "/content/participant/photobox-gs/day-ticket/stu...     Stu Hirst\n",
       "/content/participant/day-ticket/mario-platt.md       Mario Platt\n",
       "/content/participant/day-ticket/paul-davies.md       Paul Davies\n",
       "/content/participant/day-ticket/phil-huggins.md     Phil Huggins"
      ]
     },
     "execution_count": 2,
     "metadata": {},
     "output_type": "execute_result"
    }
   ],
   "source": [
    "participants = hugo.participants()\n",
    "mappings = [\n",
    "    {  'title': value.get('metadata').get('title'),\n",
    "       'file' : key } \n",
    "        for key,value in participants.items()]\n",
    "\n",
    "df = pd.DataFrame(mappings).set_index('file')\n",
    "df.tail()\n",
    "#qgrid.show_grid(df)"
   ]
  },
  {
   "cell_type": "code",
   "execution_count": 31,
   "metadata": {},
   "outputs": [
    {
     "data": {
      "text/plain": [
       "Index(['chapter-leader', 'chapter_leader', 'company', 'email', 'eventbrite_id',\n",
       "       'facebook', 'featured', 'funded_who', 'image', 'job-title', 'job_title',\n",
       "       'layout', 'linkedin', 'linkedin-company-beta', 'night_day',\n",
       "       'night_room', 'night_where', 'notes', 'post-summit', 'pre-summit',\n",
       "       'pre_summit', 'project-leader', 'project_leader', 'regonline', 'role',\n",
       "       'sessions', 'slack_id', 'sponsored_by', 'status', 'ticket', 'title',\n",
       "       'tracks', 'travel-from', 'travel_from', 'twitter', 'type', 'venue',\n",
       "       'villa', 'website', 'working-sessions'],\n",
       "      dtype='object')"
      ]
     },
     "execution_count": 31,
     "metadata": {},
     "output_type": "execute_result"
    }
   ],
   "source": [
    "df_columns = pd.DataFrame(api.participants_metadatas()).columns\n",
    "df_columns"
   ]
  },
  {
   "cell_type": "code",
   "execution_count": null,
   "metadata": {},
   "outputs": [],
   "source": [
    "pd.DataFrame(df_columns)"
   ]
  },
  {
   "cell_type": "code",
   "execution_count": null,
   "metadata": {},
   "outputs": [],
   "source": []
  },
  {
   "cell_type": "code",
   "execution_count": 17,
   "metadata": {},
   "outputs": [
    {
     "name": "stdout",
     "output_type": "stream",
     "text": [
      "https://open-security-summit.org/participant/photobox-gs/week-ticket/dinis-cruz\n"
     ]
    }
   ],
   "source": [
    "from oss_hugo.OSS_Participant import OSS_Participant\n",
    "participant = OSS_Participant('Dinis Cruz')\n",
    "url = \"https://open-security-summit.org\" + participant.path_md_file.split('content')[1].replace('.md','')\n",
    "\n",
    "print(url)\n"
   ]
  },
  {
   "cell_type": "code",
   "execution_count": null,
   "metadata": {},
   "outputs": [],
   "source": []
  }
 ],
 "metadata": {
  "kernelspec": {
   "display_name": "Python 3",
   "language": "python",
   "name": "python3"
  },
  "language_info": {
   "codemirror_mode": {
    "name": "ipython",
    "version": 3
   },
   "file_extension": ".py",
   "mimetype": "text/x-python",
   "name": "python",
   "nbconvert_exporter": "python",
   "pygments_lexer": "ipython3",
   "version": "3.7.3"
  }
 },
 "nbformat": 4,
 "nbformat_minor": 2
}
